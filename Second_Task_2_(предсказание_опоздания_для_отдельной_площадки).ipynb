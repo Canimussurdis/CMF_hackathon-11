{
  "nbformat": 4,
  "nbformat_minor": 0,
  "metadata": {
    "colab": {
      "private_outputs": true,
      "provenance": []
    },
    "kernelspec": {
      "name": "python3",
      "display_name": "Python 3"
    },
    "language_info": {
      "name": "python"
    }
  },
  "cells": [
    {
      "cell_type": "code",
      "execution_count": null,
      "metadata": {
        "id": "irKE39sGPkpp"
      },
      "outputs": [],
      "source": [
        "import pandas as pd\n",
        "import numpy as np\n",
        "import matplotlib.pyplot as plt\n",
        "from sklearn.preprocessing import StandardScaler, PolynomialFeatures\n",
        "from sklearn.metrics import mean_absolute_error, mean_squared_error, r2_score\n",
        "from sklearn import linear_model\n",
        "import random\n",
        "from sklearn.metrics import r2_score\n",
        "from google.colab import drive\n",
        "\n",
        "drive.mount('/content/drive')\n",
        "%cd /content/drive/MyDrive/Financial\\ Modeling/CMF/Хакатон\\ от\\ Сбера\n",
        "!pwd"
      ]
    },
    {
      "cell_type": "code",
      "source": [
        "orders = pd.read_csv('orders.csv')\n",
        "daily_orders = pd.read_csv('orders.csv')\n",
        "daily_orders['date'] = pd.to_datetime(daily_orders['date'])\n",
        "orders['date'] = pd.to_datetime(orders['date'])\n",
        "partners_delays = pd.read_csv('partners_delays.csv')\n",
        "partners_delays['dttm'] = pd.to_datetime(partners_delays['dttm'])\n",
        "clusters = pd.read_excel('standard_scaler_clustering.xlsx')\n",
        "partners_delays"
      ],
      "metadata": {
        "id": "Hr9AFHfPQZ_4"
      },
      "execution_count": null,
      "outputs": []
    },
    {
      "cell_type": "code",
      "source": [
        "delivery_area_id = 34\n",
        "\n",
        "df = orders[(orders['delivery_area_id'] == delivery_area_id) &\n",
        "            (orders['date'].dt.date == pd.to_datetime('2021-10-20'))].copy()\n",
        "df"
      ],
      "metadata": {
        "id": "ZW_nnET9RAgO"
      },
      "execution_count": null,
      "outputs": []
    },
    {
      "cell_type": "code",
      "source": [
        "orders['time'] = pd.to_datetime(orders['date']).dt.hour\n",
        "orders"
      ],
      "metadata": {
        "id": "HCXyxY0fTLy7"
      },
      "execution_count": null,
      "outputs": []
    },
    {
      "cell_type": "code",
      "source": [
        "orders.columns = ['delivery_area_id', 'date_time', 'orders_cnt', 'time']\n",
        "orders"
      ],
      "metadata": {
        "id": "nFRV8nsYT4-X"
      },
      "execution_count": null,
      "outputs": []
    },
    {
      "cell_type": "code",
      "source": [
        "orders['date'] = pd.to_datetime(orders['date_time']).dt.date\n",
        "orders"
      ],
      "metadata": {
        "id": "MQg5fz9RUItT"
      },
      "execution_count": null,
      "outputs": []
    },
    {
      "cell_type": "code",
      "source": [
        "def norm(df):\n",
        "  \"\"\"\n",
        "  \"\"\"\n",
        "  df_ = df.copy()\n",
        "  sum = df['orders_cnt'].sum()\n",
        "  df_['orders_cnt'] = df_['orders_cnt'] / sum\n",
        "  df_['norm'] = sum\n",
        "\n",
        "  return df_\n",
        "\n",
        "test = orders.groupby(['delivery_area_id', 'date']).apply(norm)\n",
        "test"
      ],
      "metadata": {
        "id": "URydT6SZUSrq"
      },
      "execution_count": null,
      "outputs": []
    },
    {
      "cell_type": "code",
      "source": [
        "plt.hist(test['norm'], bins=70);"
      ],
      "metadata": {
        "id": "9zCiOE-wcudg"
      },
      "execution_count": null,
      "outputs": []
    },
    {
      "cell_type": "code",
      "source": [
        "plt.scatter(test['time'], test['orders_cnt']);"
      ],
      "metadata": {
        "id": "uqLHV8axWViC"
      },
      "execution_count": null,
      "outputs": []
    },
    {
      "cell_type": "code",
      "source": [
        "plt.figure(figsize=(24,10))\n",
        "for i in range(test['time'].value_counts().shape[0]):\n",
        "  h = test['time'].value_counts().index[i]\n",
        "  ax = plt.subplot(4, 5, i+1)\n",
        "  ax.set_title(h)\n",
        "  ax.hist(test['orders_cnt'].loc[test['time'] == h], bins=30)"
      ],
      "metadata": {
        "id": "tufj90wdW41J"
      },
      "execution_count": null,
      "outputs": []
    },
    {
      "cell_type": "code",
      "source": [
        "mean = test.groupby('time')['orders_cnt'].mean()\n",
        "mean"
      ],
      "metadata": {
        "id": "DXc06mcSXADD"
      },
      "execution_count": null,
      "outputs": []
    },
    {
      "cell_type": "code",
      "source": [
        "plt.plot(mean)"
      ],
      "metadata": {
        "id": "InRYp_oWfVjA"
      },
      "execution_count": null,
      "outputs": []
    },
    {
      "cell_type": "code",
      "source": [
        "plt.yscale('log')\n",
        "plt.hist(partners_delays['delay_rate']);"
      ],
      "metadata": {
        "id": "dkrim3UnflPm"
      },
      "execution_count": null,
      "outputs": []
    },
    {
      "cell_type": "code",
      "source": [
        "partners_delays[['delivery_area_id','dttm']].loc[\n",
        "    partners_delays['delay_rate'] > .8].value_counts().index"
      ],
      "metadata": {
        "id": "nHb4DZeff8ol"
      },
      "execution_count": null,
      "outputs": []
    },
    {
      "cell_type": "code",
      "source": [
        "plt.yscale('log')\n",
        "plt.hist(partners_delays['delay_rate'], bins=20)"
      ],
      "metadata": {
        "id": "oQu3hnkugPp3"
      },
      "execution_count": null,
      "outputs": []
    },
    {
      "cell_type": "code",
      "source": [
        "partners_delays.loc[partners_delays['delay_rate'] >= .05]"
      ],
      "metadata": {
        "id": "pamC3bHqg78w"
      },
      "execution_count": null,
      "outputs": []
    },
    {
      "cell_type": "code",
      "source": [
        "no_delay = partners_delays.loc[(partners_delays['delay_rate'] < .05) &\n",
        "                               (partners_delays['dttm'].isin(orders['date_time']))]\n",
        "orders_\n",
        "no_delay                            "
      ],
      "metadata": {
        "id": "vMMHQVBX_YTo"
      },
      "execution_count": null,
      "outputs": []
    },
    {
      "cell_type": "code",
      "source": [
        "orders"
      ],
      "metadata": {
        "id": "YQpuUcYIGLMu"
      },
      "execution_count": null,
      "outputs": []
    },
    {
      "cell_type": "code",
      "source": [
        "delivery_area_id = 206\n",
        "orders_test = orders.loc[(orders['delivery_area_id'] == delivery_area_id)]\n",
        "delay_rate_test = partners_delays.loc[(partners_delays['delivery_area_id'] == delivery_area_id)]\n",
        "delay_rate_test = delay_rate_test[delay_rate_test['dttm'].isin(orders_test['date_time'])]\n",
        "delay_rate_test['orders_cnt'] = orders_test['orders_cnt'].values\n",
        "\n",
        "orders_test.shape, delay_rate_test.shape"
      ],
      "metadata": {
        "id": "_PVsN5ebCJWB"
      },
      "execution_count": null,
      "outputs": []
    },
    {
      "cell_type": "code",
      "source": [
        "delay_rate_test"
      ],
      "metadata": {
        "id": "gGBHXKD7JC1S"
      },
      "execution_count": null,
      "outputs": []
    },
    {
      "cell_type": "code",
      "source": [
        "plt.scatter(delay_rate_test['orders_cnt'], delay_rate_test['partners_cnt'])\n",
        "plt.scatter(delay_rate_test['orders_cnt'].loc[delay_rate_test['delay_rate'] > 0.05],\n",
        "            delay_rate_test['partners_cnt'].loc[delay_rate_test['delay_rate'] > 0.05])"
      ],
      "metadata": {
        "id": "DierqBBrChL5"
      },
      "execution_count": null,
      "outputs": []
    },
    {
      "cell_type": "code",
      "source": [
        "delay_rate_test['orders_cnt'].loc[delay_rate_test['delay_rate'] > 0.05]"
      ],
      "metadata": {
        "id": "YutqDx9LHzru"
      },
      "execution_count": null,
      "outputs": []
    },
    {
      "cell_type": "code",
      "source": [
        "delay_rate_test['Target'] = (delay_rate_test['delay_rate'] > 0.05).astype(int)\n",
        "delay_rate_test"
      ],
      "metadata": {
        "id": "bh4c9TcSRsVr"
      },
      "execution_count": null,
      "outputs": []
    },
    {
      "cell_type": "code",
      "source": [
        "from fastai.tabular.core import add_datepart\n",
        "\n",
        "add_datepart(delay_rate_test, 'dttm', drop=False, time=True)\n",
        "delay_rate_test"
      ],
      "metadata": {
        "id": "Pbv0KhKLSDKN"
      },
      "execution_count": null,
      "outputs": []
    },
    {
      "cell_type": "code",
      "source": [
        "delay_rate_test.columns\n",
        "delay_rate_test.drop(['delivery_area_id', 'dttmYear', 'dttmDayofyear'], axis=1,\n",
        "                     inplace=True)\n",
        "delay_rate_test"
      ],
      "metadata": {
        "id": "HnHRvbgHTAcS"
      },
      "execution_count": null,
      "outputs": []
    },
    {
      "cell_type": "code",
      "source": [
        "from sklearn.model_selection import train_test_split\n",
        "\n",
        "X = delay_rate_test.drop(['dttm', 'dttmMonth', 'delay_rate',\n",
        "                          'dttmMinute', 'dttmSecond', 'dttmElapsed', 'Target',\n",
        "                          'dttmMinute',\t'dttmSecond', 'dttmIs_year_start'],\n",
        "                         axis=1)\n",
        "y = delay_rate_test['Target']\n",
        "X_train, X_val, y_train, y_val = train_test_split(X, y, test_size=0.3,\n",
        "                                                  random_state=42)\n",
        "X_train, X_test, y_train, y_test = train_test_split(X_train, y_train,\n",
        "                                                    test_size=0.3,\n",
        "                                                    random_state=42)"
      ],
      "metadata": {
        "id": "cYyw5iQHTyTL"
      },
      "execution_count": null,
      "outputs": []
    },
    {
      "cell_type": "code",
      "source": [
        "X.columns"
      ],
      "metadata": {
        "id": "Zxsd0IeWYH0r"
      },
      "execution_count": null,
      "outputs": []
    },
    {
      "cell_type": "code",
      "source": [
        "from sklearn.ensemble import RandomForestClassifier\n",
        "from sklearn.metrics import roc_auc_score\n",
        "\n",
        "model = RandomForestClassifier(n_estimators = 100,\n",
        "                               max_depth = 5,\n",
        "                               max_features = int(np.sqrt(X_train.shape[1]))\n",
        "                                    )\n",
        "model.fit(X_train, y_train)\n",
        "roc_auc_score(y_val, model.predict_proba(X_val)[:,1])"
      ],
      "metadata": {
        "id": "1cA_nyEgOtS1"
      },
      "execution_count": null,
      "outputs": []
    },
    {
      "cell_type": "code",
      "source": [
        "model.predict_proba(X_val)"
      ],
      "metadata": {
        "id": "T3k-EE8RaLcx"
      },
      "execution_count": null,
      "outputs": []
    },
    {
      "cell_type": "code",
      "source": [
        "roc_auc_score(y_test, model.predict(X_test))"
      ],
      "metadata": {
        "id": "tEQs-_RQU1pV"
      },
      "execution_count": null,
      "outputs": []
    },
    {
      "cell_type": "code",
      "source": [
        "feature_importances = (model.feature_importances_ / sum(model.feature_importances_)) * 100\n",
        "\n",
        "results = pd.DataFrame({'Features': X_train.columns,\n",
        "                        'Importances': feature_importances})\n",
        "results.sort_values(by='Importances', inplace=True)\n",
        "large = 20; med = 16; small = 12;\n",
        "params = {'axes.titlesize': large,\n",
        "          'figure.figsize': (13, 7),\n",
        "          'axes.labelsize': large,\n",
        "          'axes.titlesize': large,\n",
        "          'xtick.labelsize': large,\n",
        "          'ytick.labelsize': large,\n",
        "          'figure.titlesize': large}\n",
        "plt.rcParams.update(params)\n",
        "\n",
        "plt.figure(figsize=(15,10))\n",
        "ax = plt.barh(results['Features'], results['Importances'])\n",
        "plt.xlabel('Importance percentages')\n",
        "plt.show()"
      ],
      "metadata": {
        "id": "rnz_ML0IVOfj"
      },
      "execution_count": null,
      "outputs": []
    },
    {
      "cell_type": "code",
      "source": [
        "from sklearn.tree import DecisionTreeClassifier\n",
        "from sklearn.metrics import roc_auc_score\n",
        "\n",
        "model = DecisionTreeClassifier(max_depth = 4\n",
        "                                    )\n",
        "model.fit(X_train, y_train)\n",
        "print(roc_auc_score(y_val, model.predict(X_val)))\n",
        "print(roc_auc_score(y_test, model.predict(X_test)))"
      ],
      "metadata": {
        "id": "N3egcr6qXBjE"
      },
      "execution_count": null,
      "outputs": []
    },
    {
      "cell_type": "code",
      "source": [],
      "metadata": {
        "id": "WUGT1zE7XlG8"
      },
      "execution_count": null,
      "outputs": []
    }
  ]
}