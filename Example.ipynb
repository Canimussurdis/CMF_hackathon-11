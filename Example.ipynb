{
  "nbformat": 4,
  "nbformat_minor": 0,
  "metadata": {
    "colab": {
      "private_outputs": true,
      "provenance": [],
      "collapsed_sections": []
    },
    "kernelspec": {
      "name": "python3",
      "display_name": "Python 3"
    },
    "language_info": {
      "name": "python"
    }
  },
  "cells": [
    {
      "cell_type": "code",
      "execution_count": null,
      "metadata": {
        "id": "dumEMbzcMjSa"
      },
      "outputs": [],
      "source": [
        "import pandas as pd\n",
        "import numpy as np\n",
        "%cd /content/drive/MyDrive/Financial\\ Modeling/CMF/Хакатон\\ от\\ Сбера\n",
        "!pwd"
      ]
    },
    {
      "cell_type": "code",
      "source": [
        "from google.colab import drive\n",
        "drive.mount('/content/drive')"
      ],
      "metadata": {
        "id": "No3KUs9PNLKs"
      },
      "execution_count": null,
      "outputs": []
    },
    {
      "cell_type": "code",
      "source": [
        "import features as f\n",
        "orders = pd.read_csv('orders.csv')\n",
        "orders['date'] = pd.to_datetime(orders['date'])"
      ],
      "metadata": {
        "id": "d6BQcjVpM6zP"
      },
      "execution_count": null,
      "outputs": []
    },
    {
      "cell_type": "code",
      "source": [
        "data = f.daily_order_counts(orders)\n",
        "data = f.date_features(data)\n",
        "data"
      ],
      "metadata": {
        "id": "DK97GQFwN4gV"
      },
      "execution_count": null,
      "outputs": []
    }
  ]
}